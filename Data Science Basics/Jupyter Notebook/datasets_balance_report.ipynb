{
 "cells": [
  {
   "cell_type": "markdown",
   "metadata": {},
   "source": [
    "## Dataframes"
   ]
  },
  {
   "cell_type": "code",
   "execution_count": 32,
   "metadata": {
    "id": "h0LVvvnfJsg5"
   },
   "outputs": [],
   "source": [
    "# Import pandas\n",
    "import pandas as pd"
   ]
  },
  {
   "cell_type": "code",
   "execution_count": 33,
   "metadata": {},
   "outputs": [],
   "source": [
    "# Create a DataFrame with balance.txt\n",
    "balance_df = pd.read_csv('balance.txt',sep=' ')"
   ]
  },
  {
   "cell_type": "code",
   "execution_count": 34,
   "metadata": {
    "id": "_LXpBJXZLYoh"
   },
   "outputs": [
    {
     "name": "stdout",
     "output_type": "stream",
     "text": [
      "Ethnicity\n",
      "African American    47.68\n",
      "Asian               44.19\n",
      "Caucasian           44.52\n",
      "Name: Income, dtype: float64\n"
     ]
    }
   ],
   "source": [
    "# The average income based on ethnicity\n",
    "print(balance_df.groupby('Ethnicity')['Income'].mean().round(2))"
   ]
  },
  {
   "cell_type": "code",
   "execution_count": 35,
   "metadata": {},
   "outputs": [
    {
     "name": "stdout",
     "output_type": "stream",
     "text": [
      "Unique values in 'Married': ['Yes' 'No']\n"
     ]
    }
   ],
   "source": [
    "# Validate data\n",
    "unique_married = balance_df['Married'].unique()\n",
    "print(\"Unique values in 'Married':\", unique_married)"
   ]
  },
  {
   "cell_type": "code",
   "execution_count": 36,
   "metadata": {},
   "outputs": [
    {
     "name": "stdout",
     "output_type": "stream",
     "text": [
      "On average, married people have a balance of 13.39\n",
      "On average, single people have a balance of 13.49\n",
      "On average, single people have a higher balance\n"
     ]
    }
   ],
   "source": [
    "# Comparison of the balances of married and single people \n",
    "print(f\"On average, married people have a balance of\", balance_df[balance_df.Married == 'Yes'].loc[:, 'Balance'].mean().round(2))\n",
    "print(\"On average, single people have a balance of\", balance_df[balance_df.Married == 'No'].loc[:, 'Balance'].mean().round(2))\n",
    "print(\"On average, single people have a higher balance\")"
   ]
  },
  {
   "cell_type": "code",
   "execution_count": 37,
   "metadata": {},
   "outputs": [
    {
     "name": "stdout",
     "output_type": "stream",
     "text": [
      "The highest income in our dataset is 186.63\n"
     ]
    }
   ],
   "source": [
    "# The higest income in the dataset\n",
    "print(\"The highest income in our dataset is\", balance_df.loc[:, 'Income'].max().round(2))"
   ]
  },
  {
   "cell_type": "code",
   "execution_count": null,
   "metadata": {},
   "outputs": [
    {
     "name": "stdout",
     "output_type": "stream",
     "text": [
      "The lowest income in our dataset is 10.354\n"
     ]
    }
   ],
   "source": [
    "# The lowest income in our dataset?\n",
    "print(\"The lowest income in our dataset is\", balance_df.loc[:, 'Income'].min().round(2))"
   ]
  },
  {
   "cell_type": "code",
   "execution_count": 39,
   "metadata": {},
   "outputs": [
    {
     "name": "stdout",
     "output_type": "stream",
     "text": [
      "The number of cards in our dataset is 1183\n"
     ]
    }
   ],
   "source": [
    "# Number of cards in the dataset\n",
    "print(\"The number of cards in our dataset is\", balance_df.loc[:, 'Cards'].sum())"
   ]
  },
  {
   "cell_type": "code",
   "execution_count": 40,
   "metadata": {},
   "outputs": [
    {
     "name": "stdout",
     "output_type": "stream",
     "text": [
      "Unique values in 'Gender': ['Male' 'Female']\n"
     ]
    }
   ],
   "source": [
    "unique_gender = balance_df['Gender'].unique()\n",
    "print(\"Unique values in 'Gender':\", unique_gender)"
   ]
  },
  {
   "cell_type": "code",
   "execution_count": 41,
   "metadata": {},
   "outputs": [
    {
     "name": "stdout",
     "output_type": "stream",
     "text": [
      "The number of females we hold information for is 207\n",
      "The number of males we hold information for is 193\n"
     ]
    }
   ],
   "source": [
    "# Number of females and number of males in the dataset\n",
    "print(\"The number of females we hold information for is\", balance_df[balance_df.Gender == 'Female']['Gender'].count())\n",
    "print(\"The number of males we hold information for is\", balance_df[balance_df.Gender == 'Male']['Gender'].count())"
   ]
  }
 ],
 "metadata": {
  "colab": {
   "authorship_tag": "ABX9TyP5J3xG1JXUCQAkP9OLQqdU",
   "provenance": []
  },
  "kernelspec": {
   "display_name": "Python 3",
   "name": "python3"
  },
  "language_info": {
   "codemirror_mode": {
    "name": "ipython",
    "version": 3
   },
   "file_extension": ".py",
   "mimetype": "text/x-python",
   "name": "python",
   "nbconvert_exporter": "python",
   "pygments_lexer": "ipython3",
   "version": "3.12.6"
  }
 },
 "nbformat": 4,
 "nbformat_minor": 0
}
