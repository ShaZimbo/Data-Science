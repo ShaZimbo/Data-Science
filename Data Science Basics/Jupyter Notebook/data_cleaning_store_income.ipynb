{
 "cells": [
  {
   "cell_type": "markdown",
   "metadata": {
    "id": "lqt_yzRy16Wj"
   },
   "source": [
    "## Data Cleaning"
   ]
  },
  {
   "cell_type": "code",
   "execution_count": 286,
   "metadata": {},
   "outputs": [],
   "source": [
    "import fuzzywuzzy\n",
    "from fuzzywuzzy import fuzz, process\n",
    "import chardet\n",
    "import pandas as pd\n",
    "import numpy as np\n",
    "import datetime"
   ]
  },
  {
   "cell_type": "code",
   "execution_count": 287,
   "metadata": {
    "id": "vBP3WN2O16Wp"
   },
   "outputs": [],
   "source": [
    "# Load up store_income_data.csv\n",
    "store_df = pd.read_csv(\"store_income_data.csv\")"
   ]
  },
  {
   "cell_type": "code",
   "execution_count": 288,
   "metadata": {},
   "outputs": [
    {
     "name": "stdout",
     "output_type": "stream",
     "text": [
      "There are 77 unique countries\n"
     ]
    }
   ],
   "source": [
    "print(f\"There are {len(store_df['country'].unique())} unique countries\")"
   ]
  },
  {
   "cell_type": "code",
   "execution_count": 289,
   "metadata": {},
   "outputs": [
    {
     "name": "stdout",
     "output_type": "stream",
     "text": [
      "There are 13 unique countries\n",
      "['united states' 'britain' 'united kingdom' 'u.k' 'sa' 'america' nan 's.a'\n",
      " 'england' 'uk' '' 'united states of america' 's. africasouth africa']\n"
     ]
    }
   ],
   "source": [
    "# Remove trailing white spaces and characters\n",
    "store_df['country'] = store_df['country'].str.lower().str.strip(\" /.\")\n",
    "print(f\"There are {len(store_df['country'].unique())} unique countries\")\n",
    "print(store_df['country'].unique())"
   ]
  },
  {
   "cell_type": "markdown",
   "metadata": {
    "id": "P6dcDc4P16Ws"
   },
   "source": [
    "2. Note that there should only be three separate countries. Eliminate all variations, so that 'South Africa', 'United Kingdom' and 'United States' are the only three countries."
   ]
  },
  {
   "cell_type": "code",
   "execution_count": 290,
   "metadata": {
    "id": "qeV3CxMR16Ws"
   },
   "outputs": [],
   "source": [
    "# Function to replace rows in the provided column of the provided DataFrame\n",
    "# that match the provided string above the provided ratio with the provided string\n",
    "def replace_matches_in_column(df, column, string_to_match, min_ratio=80):\n",
    "    # Get a list of unique strings\n",
    "    strings = df[column].dropna().unique()  # Drop NaN values to avoid errors\n",
    "\n",
    "    # Get the top 10 closest matches using fuzz.ratio\n",
    "    matches = process.extract(string_to_match, strings, limit=10, scorer=fuzz.ratio)\n",
    "\n",
    "    # Only get matches with a ratio >= min_ratio\n",
    "    close_matches = [match[0] for match in matches if match[1] >= min_ratio]\n",
    "\n",
    "    # Find rows that need replacing\n",
    "    rows_with_matches = df[column].isin(close_matches)\n",
    "\n",
    "    # Replace values in DataFrame\n",
    "    df.loc[rows_with_matches, column] = string_to_match\n",
    "\n",
    "    print(f\"Replaced: {close_matches} → {string_to_match}\")"
   ]
  },
  {
   "cell_type": "code",
   "execution_count": 291,
   "metadata": {},
   "outputs": [
    {
     "name": "stdout",
     "output_type": "stream",
     "text": [
      "Replaced: ['uk', 'u.k'] → uk\n",
      "Replaced: ['sa', 's.a'] → sa\n"
     ]
    }
   ],
   "source": [
    "replace_matches_in_column(store_df, 'country', \"uk\")\n",
    "replace_matches_in_column(store_df, 'country', \"sa\")"
   ]
  },
  {
   "cell_type": "code",
   "execution_count": 292,
   "metadata": {},
   "outputs": [
    {
     "name": "stdout",
     "output_type": "stream",
     "text": [
      "There are 11 unique countries\n",
      "['united states' 'britain' 'united kingdom' 'uk' 'sa' 'america' nan\n",
      " 'england' '' 'united states of america' 's. africasouth africa']\n"
     ]
    }
   ],
   "source": [
    "print(f\"There are {len(store_df['country'].unique())} unique countries\")\n",
    "print(store_df['country'].unique())"
   ]
  },
  {
   "cell_type": "code",
   "execution_count": 293,
   "metadata": {},
   "outputs": [
    {
     "name": "stderr",
     "output_type": "stream",
     "text": [
      "C:\\Users\\shazz\\AppData\\Local\\Temp\\ipykernel_15068\\608647543.py:1: FutureWarning: A value is trying to be set on a copy of a DataFrame or Series through chained assignment using an inplace method.\n",
      "The behavior will change in pandas 3.0. This inplace method will never work because the intermediate object on which we are setting values always behaves as a copy.\n",
      "\n",
      "For example, when doing 'df[col].method(value, inplace=True)', try using 'df.method({col: value}, inplace=True)' or df[col] = df[col].method(value) instead, to perform the operation inplace on the original object.\n",
      "\n",
      "\n",
      "  store_df.country.fillna('other', inplace=True)\n"
     ]
    }
   ],
   "source": [
    "store_df.country.fillna('other', inplace=True)\n",
    "store_df.replace('uk', 'united kingdom', inplace=True)\n",
    "store_df.replace('britain', 'united kingdom', inplace=True)\n",
    "store_df.replace('england', 'united kingdom', inplace=True)\n",
    "store_df.replace('united states of america', 'united states', inplace=True)\n",
    "store_df.replace('america', 'united states', inplace=True)\n",
    "store_df.replace('sa', 'south africa', inplace=True)\n",
    "store_df.replace('s. africasouth africa', 'south africa', inplace=True)\n",
    "store_df.replace('', 'other', inplace=True)"
   ]
  },
  {
   "cell_type": "code",
   "execution_count": 294,
   "metadata": {},
   "outputs": [
    {
     "name": "stdout",
     "output_type": "stream",
     "text": [
      "There are 4 unique countries\n",
      "['united states' 'united kingdom' 'south africa' 'other']\n"
     ]
    }
   ],
   "source": [
    "print(f\"There are {len(store_df['country'].unique())} unique countries\")\n",
    "print(store_df['country'].unique())"
   ]
  },
  {
   "cell_type": "code",
   "execution_count": 295,
   "metadata": {
    "id": "gMJbN84P16Wt"
   },
   "outputs": [
    {
     "name": "stdout",
     "output_type": "stream",
     "text": [
      "  date_measured  days_ago\n",
      "0    2006-02-04      6947\n",
      "1    2006-01-04      6978\n",
      "2    2003-09-12      7823\n",
      "3    2006-05-08      6854\n",
      "4    1973-01-21     19014\n"
     ]
    }
   ],
   "source": [
    "# Convert to datetime using the correct format\n",
    "store_df['date_measured'] = pd.to_datetime(store_df['date_measured'], format='%d-%m-%Y')\n",
    "\n",
    "\n",
    "# Calculate days ago\n",
    "today = pd.Timestamp(datetime.date.today())\n",
    "store_df['days_ago'] = (today - store_df['date_measured']).dt.days\n",
    "\n",
    "print(store_df[['date_measured', 'days_ago']].head())"
   ]
  }
 ],
 "metadata": {
  "colab": {
   "provenance": []
  },
  "kernelspec": {
   "display_name": "Python 3",
   "language": "python",
   "name": "python3"
  },
  "language_info": {
   "codemirror_mode": {
    "name": "ipython",
    "version": 3
   },
   "file_extension": ".py",
   "mimetype": "text/x-python",
   "name": "python",
   "nbconvert_exporter": "python",
   "pygments_lexer": "ipython3",
   "version": "3.12.6"
  }
 },
 "nbformat": 4,
 "nbformat_minor": 0
}
